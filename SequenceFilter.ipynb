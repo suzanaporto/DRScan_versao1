{
  "nbformat": 4,
  "nbformat_minor": 0,
  "metadata": {
    "colab": {
      "name": "SequenceFilter.ipynb",
      "version": "0.3.2",
      "provenance": [],
      "collapsed_sections": [
        "hbSmg_9IIeiB",
        "bcBhnyCjsOxt",
        "vu6fyxyhNwr3",
        "NM6SL_hGyNB1",
        "NnJ3afqTDMP2",
        "pJnIqAem3YZ4",
        "GU40j_rJ43rz"
      ],
      "include_colab_link": true
    },
    "kernelspec": {
      "name": "python3",
      "display_name": "Python 3"
    },
    "accelerator": "GPU"
  },
  "cells": [
    {
      "cell_type": "markdown",
      "metadata": {
        "id": "view-in-github",
        "colab_type": "text"
      },
      "source": [
        "[View in Colaboratory](https://colab.research.google.com/github/suzanaporto/DRScan_versao1/blob/master/SequenceFilter.ipynb)"
      ]
    },
    {
      "metadata": {
        "id": "gk8uyKne3Ygn",
        "colab_type": "text"
      },
      "cell_type": "markdown",
      "source": [
        "#UPLOAD FILE FROM PC"
      ]
    },
    {
      "metadata": {
        "id": "ezAy_qrgH346",
        "colab_type": "text"
      },
      "cell_type": "markdown",
      "source": [
        "## Loader (Upload files from pc)"
      ]
    },
    {
      "metadata": {
        "id": "HVi6MzXD0vE_",
        "colab_type": "code",
        "colab": {
          "resources": {
            "http://localhost:8080/nbextensions/google.colab/files.js": {
              "data": "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",
              "ok": true,
              "headers": [
                [
                  "content-type",
                  "application/javascript"
                ]
              ],
              "status": 200,
              "status_text": ""
            }
          },
          "base_uri": "https://localhost:8080/",
          "height": 72
        },
        "outputId": "62c8b022-8b29-4dea-d329-b7e3e231fd3b"
      },
      "cell_type": "code",
      "source": [
        "#Uploading the Dataset \n",
        "from google.colab import files\n",
        "uploaded = files.upload()"
      ],
      "execution_count": 2,
      "outputs": [
        {
          "output_type": "display_data",
          "data": {
            "text/html": [
              "\n",
              "     <input type=\"file\" id=\"files-21073124-d3f9-4f0e-991c-8c9567da8808\" name=\"files[]\" multiple disabled />\n",
              "     <output id=\"result-21073124-d3f9-4f0e-991c-8c9567da8808\">\n",
              "      Upload widget is only available when the cell has been executed in the\n",
              "      current browser session. Please rerun this cell to enable.\n",
              "      </output>\n",
              "      <script src=\"/nbextensions/google.colab/files.js\"></script> "
            ],
            "text/plain": [
              "<IPython.core.display.HTML object>"
            ]
          },
          "metadata": {
            "tags": []
          }
        },
        {
          "output_type": "stream",
          "text": [
            "Saving NovoAlzheimerAntigo.tsv to NovoAlzheimerAntigo (1).tsv\n"
          ],
          "name": "stdout"
        }
      ]
    },
    {
      "metadata": {
        "id": "jZL1qIpjFEey",
        "colab_type": "code",
        "colab": {
          "base_uri": "https://localhost:8080/",
          "height": 34
        },
        "outputId": "c04c3fe5-3511-4ae7-8e44-87ba955da019"
      },
      "cell_type": "code",
      "source": [
        "!ls"
      ],
      "execution_count": 3,
      "outputs": [
        {
          "output_type": "stream",
          "text": [
            "NovoAlzheimerAntigo (1).tsv  NovoAlzheimerAntigo.tsv  sample_data\n"
          ],
          "name": "stdout"
        }
      ]
    },
    {
      "metadata": {
        "id": "lfPC1sNHFGPi",
        "colab_type": "code",
        "colab": {}
      },
      "cell_type": "code",
      "source": [
        "import pandas as pd\n",
        "\n",
        "df_fimo_output = pd.read_csv('NovoAlzheimerAntigo.tsv', sep='\\t') \n"
      ],
      "execution_count": 0,
      "outputs": []
    },
    {
      "metadata": {
        "id": "8fLLn45mEppP",
        "colab_type": "text"
      },
      "cell_type": "markdown",
      "source": [
        "##Create Position Dictionary"
      ]
    },
    {
      "metadata": {
        "id": "61QaA-rkaP1m",
        "colab_type": "code",
        "colab": {}
      },
      "cell_type": "code",
      "source": [
        "def snps_dict_pos(snps_array):\n",
        "  dict_pos = {}\n",
        "  #insert pair (name,location) in dictionary\n",
        "  for i in range(len(snps_array)):\n",
        "    dict_pos[snp[i].name] = snp[i].location\n",
        "  return dict_pos"
      ],
      "execution_count": 0,
      "outputs": []
    },
    {
      "metadata": {
        "id": "U6S21YwGH7bb",
        "colab_type": "text"
      },
      "cell_type": "markdown",
      "source": [
        "## Manipulating Data Frames"
      ]
    },
    {
      "metadata": {
        "id": "hbSmg_9IIeiB",
        "colab_type": "text"
      },
      "cell_type": "markdown",
      "source": [
        "###Single sequence"
      ]
    },
    {
      "metadata": {
        "id": "moaeGiHnIDhu",
        "colab_type": "code",
        "colab": {}
      },
      "cell_type": "code",
      "source": [
        "def single_sequence_testes(snp_location, table_output):\n",
        "  #table into data frame\n",
        "  df_fimo_output = pd.DataFrame.from_csv(table_output, sep='\\t')\n",
        "  df_fimo_output = df_fimo_output.dropna()\n",
        "  #stat values into array\n",
        "  array_start = df_fimo_output['start'].values\n",
        "  #stop values into array\n",
        "  array_stop = df_fimo_output['stop'].values\n",
        "  #sequence names into array\n",
        "  array_sequence = df_fimo_output['sequence_name'].values\n",
        "  #prints first 10 rows\n",
        "  table_10 = df_fimo_output.head(10)\n",
        "  print(table_10)\n",
        "  #loop prints values from start array and stop array\n",
        "  for i in range(array_start.size):\n",
        "    #verify if snp_location is between start and stop values\n",
        "    if snp_location>= array_start[i] and snp_location<= array_stop[i]:\n",
        "      pass\n",
        "     #print (\"Numero array start: \" +str(array_start[i]))\n",
        "     #print (\"Numero array stop: \" + str(array_stop[i]))\n",
        "     #print (\"ACHOU\")\n",
        "  #remove duplicates from array.\n",
        "  #tabela = df_fimo_output.drop_duplicates('motif_if',False,False)\n",
        "  #prints first 10 rows\n",
        "  df_fimo_output.head(10)\n",
        "  print (table_10)\n",
        "  "
      ],
      "execution_count": 0,
      "outputs": []
    },
    {
      "metadata": {
        "id": "bcBhnyCjsOxt",
        "colab_type": "text"
      },
      "cell_type": "markdown",
      "source": [
        "####Get unique array"
      ]
    },
    {
      "metadata": {
        "id": "nOjPZbwRsOax",
        "colab_type": "code",
        "colab": {}
      },
      "cell_type": "code",
      "source": [
        "def unique_array (data_frame, column_name):\n",
        "  #any column\n",
        "  array_motifs = data_frame[column_name].values\n",
        "  \n",
        "  motifs_unique = []\n",
        "  # create list of unique motifs\n",
        "  motifs_unique = np.unique(array_motifs)\n",
        "  \n",
        "  print (motifs_unique)\n",
        "  \n",
        "  #show list with all motifs with the respective name\n",
        "  for motif in array_motifs:\n",
        "    new_A = new_df.loc[(new_df.motif_alt_id == 'RREB1')]\n",
        "  #display(new_A)\n",
        "  #print (\"Indices: \", idx, \"seq name: \", seq_name ,motif)\n",
        "  "
      ],
      "execution_count": 0,
      "outputs": []
    },
    {
      "metadata": {
        "id": "vu6fyxyhNwr3",
        "colab_type": "text"
      },
      "cell_type": "markdown",
      "source": [
        "####Get snp id inside header"
      ]
    },
    {
      "metadata": {
        "id": "U24VVNSrN5l_",
        "colab_type": "code",
        "colab": {}
      },
      "cell_type": "code",
      "source": [
        "def single_sequence_header(table_output):\n",
        "  #table into data frame\n",
        "  df_fimo_output = pd.DataFrame.from_csv(table_output, sep='\\t')\n",
        "  #sequences values in array\n",
        "  array_sequence = df_fimo_output['sequence_name'].values\n",
        "  for i in range(10):\n",
        "    header = array_sequence[i]\n",
        "    print(header)\n",
        "    header_elements = header.split('|')\n",
        "    print (\"É pra ser o nome da snp: \" + header_elements[1])\n",
        "    \n",
        "    \n",
        "  "
      ],
      "execution_count": 0,
      "outputs": []
    },
    {
      "metadata": {
        "id": "NM6SL_hGyNB1",
        "colab_type": "text"
      },
      "cell_type": "markdown",
      "source": [
        "###Row out of range"
      ]
    },
    {
      "metadata": {
        "id": "aGFFy7VMdv-e",
        "colab_type": "code",
        "colab": {}
      },
      "cell_type": "code",
      "source": [
        "def row_out_of_range_single(seq_start,seq_stop,seq_name,idx):\n",
        "        \n",
        "  relative_position =  int(seq_name.split('|')[4])\n",
        "  condition_3 = relative_position < seq_start \n",
        "  condition_2 = relative_position > seq_stop\n",
        "  #index list\n",
        "  index_list = []\n",
        "\n",
        "  if  (condition_3 or condition_2) :\n",
        "    return idx\n",
        "  else:\n",
        "    return None\n"
      ],
      "execution_count": 0,
      "outputs": []
    },
    {
      "metadata": {
        "id": "20bm6KwFGKrG",
        "colab_type": "code",
        "colab": {}
      },
      "cell_type": "code",
      "source": [
        "def row_out_of_range_multiple(seq_start,seq_stop,seq_name,idx):\n",
        "  #check outside portion of positions\n",
        "  relative_position_list =  seq_name.split('|')[4:]\n",
        "  #index list\n",
        "  index_list = []\n",
        "  verify = false\n",
        "  \n",
        "  for position in relative_position_list:\n",
        "    \n",
        "    condition_3 = position > seq_start \n",
        "    condition_2 = position < seq_stop\n",
        "    #condition tests if there is at least one snp in start-stop range \n",
        "    if (condition_3 and condition_2) :\n",
        "      verify = true\n",
        "  if verify:\n",
        "    return None\n",
        "  else:\n",
        "    return idx"
      ],
      "execution_count": 0,
      "outputs": []
    },
    {
      "metadata": {
        "id": "bSjZz1eaD52b",
        "colab_type": "code",
        "colab": {}
      },
      "cell_type": "code",
      "source": [
        "def filter_range(table_output):\n",
        "  #table into data frame\n",
        "  df_fimo_output = pd.read_csv(table_output, sep='\\t')\n",
        "  df_fimo_output = df_fimo_output.dropna()\n",
        "  #start values into array\n",
        "  array_start = df_fimo_output['start'].values\n",
        "  #stop values into array\n",
        "  array_stop = df_fimo_output['stop'].values\n",
        "  #sequence name values\n",
        "  array_sequence_name = df_fimo_output['sequence_name'].values\n",
        "  #index list\n",
        "  index_list = []\n",
        "  \n",
        "  #with pd.option_context('display.max_rows', 100, 'display.max_columns', 100):\n",
        "  #  display(df_fimo_output)\n",
        "  \n",
        "  for idx, (seq_start,seq_stop,seq_name) in enumerate( zip(array_start, array_stop, array_sequence_name) ):\n",
        "    \n",
        "    seq_type = seq_name.split('|')[0]\n",
        "    condition_1 = seq_type == 'sequence_variation'\n",
        "    condition_2 = seq_type == 'sequence_wild_type'\n",
        "    condition_3 = seq_type == 'sequence_combinations'\n",
        "    \n",
        "    #first filter is out_of_range filter\n",
        "    if (condition_1 or condition_2):\n",
        "      index = row_out_of_range_single(seq_start,seq_stop,seq_name,idx)\n",
        "      if (not(index == None)):\n",
        "        index_list.append(index)\n",
        "    if (condition_3):\n",
        "      index = row_out_of_range_multiple(seq_start,seq_stop,seq_name,idx)\n",
        "      if (not(index == None)):\n",
        "        index_list.append(index)\n",
        "      \n",
        "  #print (str(index_list))\n",
        "  print (\"Tamanho da lista: \" + str(len(index_list)))\n",
        "  #print (\"-------------------------Testando----------------------------\")\n",
        "  #filter by id\n",
        "  #new_df = df_fimo_output.drop(df_fimo_output.index[index_list],axis=0)\n",
        "  idx_list_selected = [ i for i in range(len(df_fimo_output)) if not i in index_list ]\n",
        "  \n",
        "  new_df = df_fimo_output.iloc[idx_list_selected]\n",
        "  \n",
        "  return new_df\n",
        "  "
      ],
      "execution_count": 0,
      "outputs": []
    },
    {
      "metadata": {
        "id": "NnJ3afqTDMP2",
        "colab_type": "text"
      },
      "cell_type": "markdown",
      "source": [
        "###Filter equivalents"
      ]
    },
    {
      "metadata": {
        "id": "X3BzzNYPDR-D",
        "colab_type": "code",
        "colab": {}
      },
      "cell_type": "code",
      "source": [
        "def single_equivalents(data_frame):\n",
        "  pass\n",
        "  "
      ],
      "execution_count": 0,
      "outputs": []
    },
    {
      "metadata": {
        "id": "o_7m8jsbFJSF",
        "colab_type": "code",
        "colab": {}
      },
      "cell_type": "code",
      "source": [
        "def multiple_equivalents(data_frame):\n",
        "  pass"
      ],
      "execution_count": 0,
      "outputs": []
    },
    {
      "metadata": {
        "id": "pJnIqAem3YZ4",
        "colab_type": "text"
      },
      "cell_type": "markdown",
      "source": [
        "### Get snps inside TF start-stop position\n",
        "uses position dictionary"
      ]
    },
    {
      "metadata": {
        "id": "8fYBDLXQ3jmD",
        "colab_type": "code",
        "colab": {}
      },
      "cell_type": "code",
      "source": [
        "def pos_in_TF(start,stop):\n",
        "  \n",
        "  pos_list = []\n",
        "  \n",
        "  #loop snps dict\n",
        "  for snp in snps_dict:\n",
        "    position = snps_dict[snp]\n",
        "    \n",
        "    condition_1 = position >= start\n",
        "    condition_2 = position <= stop\n",
        "  \n",
        "    if condition_1 and condition_2:\n",
        "      pos_list.add(position)\n",
        "      \n",
        "  return pos_list\n",
        "    "
      ],
      "execution_count": 0,
      "outputs": []
    },
    {
      "metadata": {
        "id": "4ZjbkiA0H28-",
        "colab_type": "code",
        "colab": {}
      },
      "cell_type": "code",
      "source": [
        "def snps_in_TF(start,stop):\n",
        "  \n",
        "  snps_list = []\n",
        "  \n",
        "  #loop snps dict\n",
        "  for snp in snps_dict:\n",
        "    position = snps_dict[snp]\n",
        "    \n",
        "    condition_1 = position >= start\n",
        "    condition_2 = position <= stop\n",
        "  \n",
        "    if condition_1 and condition_2:\n",
        "      snps_list.add(snp)\n",
        "      \n",
        "  return snps_list\n",
        "  "
      ],
      "execution_count": 0,
      "outputs": []
    },
    {
      "metadata": {
        "id": "n7by1DX6Aftk",
        "colab_type": "text"
      },
      "cell_type": "markdown",
      "source": [
        "###Filter Data Frame"
      ]
    },
    {
      "metadata": {
        "id": "QtC38og1Albp",
        "colab_type": "code",
        "colab": {}
      },
      "cell_type": "code",
      "source": [
        "def filter_dataframe(table_output, log=False):\n",
        "  \n",
        "  new_df = filter_range(table_output)\n",
        "  \n",
        "  print (\"Tamanho linha: \", len(new_df))  \n",
        "  #display(new_df)\n",
        "  \n",
        "  #display sorted motifs\n",
        "  #display (new_df.sort_values(['motif_alt_id','start']))\n",
        "  #display (new_df)\n",
        "  \n",
        "  #start values(new_df) into array\n",
        "  array_start = new_df['start'].values\n",
        "  #stop values(new_df) into array\n",
        "  array_stop = new_df['stop'].values\n",
        "  #sequence name(new_df) values\n",
        "  array_sequence_name = new_df['sequence_name'].values\n",
        "  #array motifs\n",
        "  array_motifs = new_df['motif_alt_id'].values\n",
        "  \n",
        "  #iterate through entire list/need treatment for combinations\n",
        "  for idx, (seq_start,seq_stop,seq_name,motif) in enumerate( zip(array_start, array_stop, array_sequence_name, array_motifs) ):\n",
        "      #current variables\n",
        "      current_index = idx\n",
        "      verify_index = False\n",
        "      current_motif = motif\n",
        "      current_seq_name = seq_name\n",
        "      current_start = seq_start\n",
        "      current_stop = seq_stop\n",
        "      \n",
        "      seq_type = seq_name.split('|')[0]\n",
        "      condition_1 = seq_type == 'sequence_variation'\n",
        "      condition_2 = seq_type == 'sequence_wild_type'\n",
        "      condition_3 = seq_type == 'sequence_combinations'\n",
        "      \n",
        "      if condition_1 or condition_2:\n",
        "        for idx, (seq_start,seq_stop,seq_name,motif) in enumerate( zip(array_start, array_stop, array_sequence_name, array_motifs) ):\n",
        "          snp_name = seq_name.split('|')[1]\n",
        "          #compare list with current values\n",
        "          condition_m = current_motif == motif\n",
        "          condition_sn = current_seq_name.split('|')[0] != seq_name.split('|')[0]\n",
        "          condition_sn2 = current_seq_name.split('|')[1] == seq_name.split('|')[1]\n",
        "          condition_csta = current_start == seq_start\n",
        "          condition_csta1 = seq_start == range(int(current_start-50),int(current_start))\n",
        "          condition_csto = current_stop == seq_stop\n",
        "          condition_csto1 = seq_stop == range(int(current_stop),int(current_stop + 50))\n",
        "        \n",
        "          if condition_m and condition_sn and condition_sn2 and (condition_csta or condition_csta1).any and (condition_csto or condition_csto1).any:\n",
        "            #new data frame droping all occurences of specified TF-snp pair\n",
        "            new_df = new_df.drop(new_df[(new_df.motif_alt_id == motif) & (new_df.sequence_name.str.contains(snp_name))].index)\n",
        "            \n",
        "      #missing tests/half completed/reset variables after processing    \n",
        "      if condition_3:\n",
        "        count = 0\n",
        "        #get number of all snps in combinations sequence\n",
        "        for i in current_seq_name.split('|'):\n",
        "          if i[:2] == 'rs':\n",
        "            count = count + 1\n",
        "        total = count\n",
        "        print (total)\n",
        "        #snp list\n",
        "        snp_list = current_seq_name.split('|')[1:total+1]\n",
        "        #allele list\n",
        "        allele_list = []\n",
        "        #for i in range(len(current_seq_name.split('|')[total+1:]))\n",
        "        #  if !(current_seq_name.split('|')[i].isDigit):\n",
        "        #    allele_list.add(current_seq_name.split('|')[i])\n",
        "        #allele_list = current_seq_name.split('|')[total+1:]\n",
        "        size_in_list = len(snp_in_list)\n",
        "        allele_list = current_seq_name.split('|')[total+1:((total+1)+size_in_list)+1]\n",
        "        #get positions\n",
        "        position_in_list = pos_in_TF(current_start,current_stop)\n",
        "        snp_in_list = snp_in_TF(current_start,current_stop)\n",
        "        \n",
        "        for idx, (seq_start,seq_stop,seq_name,motif) in enumerate( zip(array_start, array_stop, array_sequence_name, array_motifs) ):\n",
        "          \n",
        "          condition_m = current_motif == motif\n",
        "          condition_sn2 = snp_list == seq_name.split('|')[1:total]\n",
        "          #range search needs maintain in snp start stop in snp range.\n",
        "          condition_csta = current_start == seq_start\n",
        "          condition_csto = current_stop == seq_stop\n",
        "          condition_al_dif = allele_list != seq_name.split('|')[total+1:((total+1)+size_in_list)+1]\n",
        "        \n",
        "          if condition_m and condition_sn2 and condition_csta and condition_csto and condition_al_dif:\n",
        "            #new data frame droping all occurences of specified TF-snps pair\n",
        "            new_df = new_df.drop(new_df[(new_df.motif_alt_id == motif) & (new_df.sequence_name.str.contains(snp_list))].index)\n",
        "          \n",
        "  display (new_df.sort_values(['motif_alt_id','start']))\n",
        "  print (\"Tamanho DataFrame: \",len(new_df))\n",
        "  return new_df"
      ],
      "execution_count": 0,
      "outputs": []
    },
    {
      "metadata": {
        "id": "GU40j_rJ43rz",
        "colab_type": "text"
      },
      "cell_type": "markdown",
      "source": [
        "###Count Differential Snps (Single)"
      ]
    },
    {
      "metadata": {
        "id": "hqfIJIys48C0",
        "colab_type": "code",
        "colab": {}
      },
      "cell_type": "code",
      "source": [
        "def count_snps (filtered_dataframe):\n",
        "  subtotals = filtered_dataframe.groupby(filtered_dataframe['sequence_name'].str.split('|').str[1]).count()\n",
        "  total = subtotals.drop(columns=['sequence_name', 'motif_alt_id','start', \n",
        "                                  'stop','strand','score','p-value','q-value',\n",
        "                                  'matched_sequence'])\n",
        "  total = total.reset_index().rename(index=str, \n",
        "                                     columns={'sequence_name': \"SNP NAME\", \n",
        "                                              \"motif_id\": \"COUNT\"})\n",
        "  display(total)\n",
        "  total.plot.bar(x='SNP NAME', y='COUNT',rot=0) "
      ],
      "execution_count": 0,
      "outputs": []
    },
    {
      "metadata": {
        "id": "60tHiFCXUIpu",
        "colab_type": "text"
      },
      "cell_type": "markdown",
      "source": [
        "##Download From Google Colab"
      ]
    },
    {
      "metadata": {
        "id": "J_srgQ8NUNvK",
        "colab_type": "code",
        "colab": {}
      },
      "cell_type": "code",
      "source": [
        "from google.colab import files\n",
        "\n",
        "df_fimo_output.to_csv('df_fimo.csv')\n",
        "files.download('df_fimo.csv')"
      ],
      "execution_count": 0,
      "outputs": []
    },
    {
      "metadata": {
        "id": "QDHKXNTSKYYR",
        "colab_type": "text"
      },
      "cell_type": "markdown",
      "source": [
        "##Testes"
      ]
    },
    {
      "metadata": {
        "id": "FHAeDv81HKst",
        "colab_type": "code",
        "colab": {
          "base_uri": "https://localhost:8080/",
          "height": 881
        },
        "outputId": "ca3164c2-5cf6-4f5d-b3d3-61cbcc8a2672"
      },
      "cell_type": "code",
      "source": [
        "import numpy as np\n",
        "import matplotlib.pyplot as plt\n",
        "plt.style.use('seaborn-pastel')\n",
        "f_dataframe = filter_dataframe ('NovoAlzheimerAntigo.tsv',True)\n",
        "\n"
      ],
      "execution_count": 24,
      "outputs": [
        {
          "output_type": "stream",
          "text": [
            "Tamanho da lista: 384\n",
            "Tamanho linha:  52\n"
          ],
          "name": "stdout"
        },
        {
          "output_type": "display_data",
          "data": {
            "text/html": [
              "<div>\n",
              "<style scoped>\n",
              "    .dataframe tbody tr th:only-of-type {\n",
              "        vertical-align: middle;\n",
              "    }\n",
              "\n",
              "    .dataframe tbody tr th {\n",
              "        vertical-align: top;\n",
              "    }\n",
              "\n",
              "    .dataframe thead th {\n",
              "        text-align: right;\n",
              "    }\n",
              "</style>\n",
              "<table border=\"1\" class=\"dataframe\">\n",
              "  <thead>\n",
              "    <tr style=\"text-align: right;\">\n",
              "      <th></th>\n",
              "      <th>motif_id</th>\n",
              "      <th>motif_alt_id</th>\n",
              "      <th>sequence_name</th>\n",
              "      <th>start</th>\n",
              "      <th>stop</th>\n",
              "      <th>strand</th>\n",
              "      <th>score</th>\n",
              "      <th>p-value</th>\n",
              "      <th>q-value</th>\n",
              "      <th>matched_sequence</th>\n",
              "    </tr>\n",
              "  </thead>\n",
              "  <tbody>\n",
              "    <tr>\n",
              "      <th>95</th>\n",
              "      <td>MA0154.3</td>\n",
              "      <td>EBF1</td>\n",
              "      <td>sequence_wild_type|rs8103315|19|C|51</td>\n",
              "      <td>47.0</td>\n",
              "      <td>60.0</td>\n",
              "      <td>-</td>\n",
              "      <td>12.39340</td>\n",
              "      <td>0.000017</td>\n",
              "      <td>0.03550</td>\n",
              "      <td>GGACCCCAGGGACT</td>\n",
              "    </tr>\n",
              "    <tr>\n",
              "      <th>110</th>\n",
              "      <td>MA0154.3</td>\n",
              "      <td>EBF1</td>\n",
              "      <td>sequence_wild_type|rs8103315|19|C|51</td>\n",
              "      <td>47.0</td>\n",
              "      <td>60.0</td>\n",
              "      <td>+</td>\n",
              "      <td>11.85250</td>\n",
              "      <td>0.000022</td>\n",
              "      <td>0.03550</td>\n",
              "      <td>AGTCCCTGGGGTCC</td>\n",
              "    </tr>\n",
              "    <tr>\n",
              "      <th>345</th>\n",
              "      <td>MA0149.1</td>\n",
              "      <td>EWSR1-FLI1</td>\n",
              "      <td>sequence_variation|rs439401|19|C|51</td>\n",
              "      <td>43.0</td>\n",
              "      <td>60.0</td>\n",
              "      <td>-</td>\n",
              "      <td>-14.81580</td>\n",
              "      <td>0.000072</td>\n",
              "      <td>0.03000</td>\n",
              "      <td>GGTGGGAGGGGAAGAGAG</td>\n",
              "    </tr>\n",
              "    <tr>\n",
              "      <th>148</th>\n",
              "      <td>MA0092.1</td>\n",
              "      <td>Hand1::Tcf3</td>\n",
              "      <td>sequence_variation|rs405509|19|G|51</td>\n",
              "      <td>45.0</td>\n",
              "      <td>54.0</td>\n",
              "      <td>+</td>\n",
              "      <td>12.13480</td>\n",
              "      <td>0.000030</td>\n",
              "      <td>0.10800</td>\n",
              "      <td>TGTCTGGATT</td>\n",
              "    </tr>\n",
              "    <tr>\n",
              "      <th>106</th>\n",
              "      <td>MA0155.1</td>\n",
              "      <td>INSM1</td>\n",
              "      <td>sequence_wild_type|rs8100239|19|T|51</td>\n",
              "      <td>51.0</td>\n",
              "      <td>62.0</td>\n",
              "      <td>+</td>\n",
              "      <td>12.76530</td>\n",
              "      <td>0.000021</td>\n",
              "      <td>0.07060</td>\n",
              "      <td>TTTCAGGGGTCT</td>\n",
              "    </tr>\n",
              "    <tr>\n",
              "      <th>233</th>\n",
              "      <td>MA0741.1</td>\n",
              "      <td>KLF16</td>\n",
              "      <td>sequence_variation|rs439401|19|C|51</td>\n",
              "      <td>49.0</td>\n",
              "      <td>59.0</td>\n",
              "      <td>+</td>\n",
              "      <td>11.20690</td>\n",
              "      <td>0.000047</td>\n",
              "      <td>0.04070</td>\n",
              "      <td>TCCCCTCCCAC</td>\n",
              "    </tr>\n",
              "    <tr>\n",
              "      <th>105</th>\n",
              "      <td>MA0599.1</td>\n",
              "      <td>KLF5</td>\n",
              "      <td>sequence_variation|rs439401|19|C|51</td>\n",
              "      <td>49.0</td>\n",
              "      <td>58.0</td>\n",
              "      <td>+</td>\n",
              "      <td>13.46940</td>\n",
              "      <td>0.000021</td>\n",
              "      <td>0.02980</td>\n",
              "      <td>TCCCCTCCCA</td>\n",
              "    </tr>\n",
              "    <tr>\n",
              "      <th>381</th>\n",
              "      <td>MA0599.1</td>\n",
              "      <td>KLF5</td>\n",
              "      <td>sequence_variation|rs2075650|19|G|51</td>\n",
              "      <td>49.0</td>\n",
              "      <td>58.0</td>\n",
              "      <td>-</td>\n",
              "      <td>10.79590</td>\n",
              "      <td>0.000086</td>\n",
              "      <td>0.03370</td>\n",
              "      <td>ACTCCACCCC</td>\n",
              "    </tr>\n",
              "    <tr>\n",
              "      <th>314</th>\n",
              "      <td>MA0863.1</td>\n",
              "      <td>MTF1</td>\n",
              "      <td>sequence_wild_type|rs8103315|19|C|51</td>\n",
              "      <td>38.0</td>\n",
              "      <td>51.0</td>\n",
              "      <td>+</td>\n",
              "      <td>6.50000</td>\n",
              "      <td>0.000064</td>\n",
              "      <td>0.21200</td>\n",
              "      <td>TCTGCAGACAGTCC</td>\n",
              "    </tr>\n",
              "    <tr>\n",
              "      <th>138</th>\n",
              "      <td>MA0057.1</td>\n",
              "      <td>MZF1(var.2)</td>\n",
              "      <td>sequence_variation|rs439401|19|C|51</td>\n",
              "      <td>47.0</td>\n",
              "      <td>56.0</td>\n",
              "      <td>-</td>\n",
              "      <td>12.01010</td>\n",
              "      <td>0.000028</td>\n",
              "      <td>0.05990</td>\n",
              "      <td>GGAGGGGAAG</td>\n",
              "    </tr>\n",
              "    <tr>\n",
              "      <th>417</th>\n",
              "      <td>MA0117.2</td>\n",
              "      <td>Mafb</td>\n",
              "      <td>sequence_variation|rs1871047|19|G|51</td>\n",
              "      <td>46.0</td>\n",
              "      <td>57.0</td>\n",
              "      <td>+</td>\n",
              "      <td>10.78650</td>\n",
              "      <td>0.000095</td>\n",
              "      <td>0.34000</td>\n",
              "      <td>AAAAAGCTGAGA</td>\n",
              "    </tr>\n",
              "    <tr>\n",
              "      <th>55</th>\n",
              "      <td>MA0504.1</td>\n",
              "      <td>NR2C2</td>\n",
              "      <td>sequence_variation|rs439401|19|C|51</td>\n",
              "      <td>49.0</td>\n",
              "      <td>63.0</td>\n",
              "      <td>-</td>\n",
              "      <td>13.32860</td>\n",
              "      <td>0.000010</td>\n",
              "      <td>0.03190</td>\n",
              "      <td>GGGGGTGGGAGGGGA</td>\n",
              "    </tr>\n",
              "    <tr>\n",
              "      <th>331</th>\n",
              "      <td>MA0842.1</td>\n",
              "      <td>NRL</td>\n",
              "      <td>sequence_variation|rs157580|19|A|51</td>\n",
              "      <td>45.0</td>\n",
              "      <td>55.0</td>\n",
              "      <td>-</td>\n",
              "      <td>10.76360</td>\n",
              "      <td>0.000070</td>\n",
              "      <td>0.08460</td>\n",
              "      <td>ACCTTGCTGAC</td>\n",
              "    </tr>\n",
              "    <tr>\n",
              "      <th>179</th>\n",
              "      <td>MA0163.1</td>\n",
              "      <td>PLAG1</td>\n",
              "      <td>sequence_variation|rs2075650|19|G|51</td>\n",
              "      <td>41.0</td>\n",
              "      <td>54.0</td>\n",
              "      <td>+</td>\n",
              "      <td>7.34694</td>\n",
              "      <td>0.000038</td>\n",
              "      <td>0.01610</td>\n",
              "      <td>GTGGGGTTGGGGTG</td>\n",
              "    </tr>\n",
              "    <tr>\n",
              "      <th>265</th>\n",
              "      <td>MA0790.1</td>\n",
              "      <td>POU4F1</td>\n",
              "      <td>sequence_variation|rs8100239|19|A|51</td>\n",
              "      <td>43.0</td>\n",
              "      <td>56.0</td>\n",
              "      <td>-</td>\n",
              "      <td>11.18900</td>\n",
              "      <td>0.000056</td>\n",
              "      <td>0.19600</td>\n",
              "      <td>CTGAATTTTTCATC</td>\n",
              "    </tr>\n",
              "    <tr>\n",
              "      <th>378</th>\n",
              "      <td>MA0791.1</td>\n",
              "      <td>POU4F3</td>\n",
              "      <td>sequence_variation|rs8100239|19|A|51</td>\n",
              "      <td>41.0</td>\n",
              "      <td>56.0</td>\n",
              "      <td>-</td>\n",
              "      <td>10.40940</td>\n",
              "      <td>0.000083</td>\n",
              "      <td>0.28600</td>\n",
              "      <td>CTGAATTTTTCATCCT</td>\n",
              "    </tr>\n",
              "    <tr>\n",
              "      <th>151</th>\n",
              "      <td>MA0073.1</td>\n",
              "      <td>RREB1</td>\n",
              "      <td>sequence_variation|rs439401|19|C|51</td>\n",
              "      <td>49.0</td>\n",
              "      <td>68.0</td>\n",
              "      <td>+</td>\n",
              "      <td>6.25688</td>\n",
              "      <td>0.000031</td>\n",
              "      <td>0.00856</td>\n",
              "      <td>TCCCCTCCCACCCCCTCAGT</td>\n",
              "    </tr>\n",
              "    <tr>\n",
              "      <th>386</th>\n",
              "      <td>MA0860.1</td>\n",
              "      <td>Rarg(var.2)</td>\n",
              "      <td>sequence_variation|rs157580|19|A|51</td>\n",
              "      <td>42.0</td>\n",
              "      <td>58.0</td>\n",
              "      <td>+</td>\n",
              "      <td>-6.92727</td>\n",
              "      <td>0.000086</td>\n",
              "      <td>0.26200</td>\n",
              "      <td>GGTGTCAGCAAGGTTCC</td>\n",
              "    </tr>\n",
              "    <tr>\n",
              "      <th>406</th>\n",
              "      <td>MA0513.1</td>\n",
              "      <td>SMAD2::SMAD3::SMAD4</td>\n",
              "      <td>sequence_wild_type|rs157580|19|G|51</td>\n",
              "      <td>41.0</td>\n",
              "      <td>53.0</td>\n",
              "      <td>-</td>\n",
              "      <td>10.21310</td>\n",
              "      <td>0.000090</td>\n",
              "      <td>0.27300</td>\n",
              "      <td>CTCGCTGACACCT</td>\n",
              "    </tr>\n",
              "    <tr>\n",
              "      <th>228</th>\n",
              "      <td>MA0746.1</td>\n",
              "      <td>SP3</td>\n",
              "      <td>sequence_variation|rs439401|19|C|51</td>\n",
              "      <td>49.0</td>\n",
              "      <td>59.0</td>\n",
              "      <td>+</td>\n",
              "      <td>11.55280</td>\n",
              "      <td>0.000047</td>\n",
              "      <td>0.05530</td>\n",
              "      <td>TCCCCTCCCAC</td>\n",
              "    </tr>\n",
              "    <tr>\n",
              "      <th>260</th>\n",
              "      <td>MA0747.1</td>\n",
              "      <td>SP8</td>\n",
              "      <td>sequence_variation|rs439401|19|C|51</td>\n",
              "      <td>49.0</td>\n",
              "      <td>60.0</td>\n",
              "      <td>+</td>\n",
              "      <td>11.25000</td>\n",
              "      <td>0.000054</td>\n",
              "      <td>0.02740</td>\n",
              "      <td>TCCCCTCCCACC</td>\n",
              "    </tr>\n",
              "    <tr>\n",
              "      <th>159</th>\n",
              "      <td>MA1153.1</td>\n",
              "      <td>Smad4</td>\n",
              "      <td>sequence_variation|rs405509|19|G|51</td>\n",
              "      <td>45.0</td>\n",
              "      <td>52.0</td>\n",
              "      <td>+</td>\n",
              "      <td>12.93440</td>\n",
              "      <td>0.000033</td>\n",
              "      <td>0.03970</td>\n",
              "      <td>TGTCTGGA</td>\n",
              "    </tr>\n",
              "    <tr>\n",
              "      <th>399</th>\n",
              "      <td>MA1121.1</td>\n",
              "      <td>TEAD2</td>\n",
              "      <td>sequence_variation|rs2075650|19|G|51</td>\n",
              "      <td>50.0</td>\n",
              "      <td>62.0</td>\n",
              "      <td>-</td>\n",
              "      <td>10.58180</td>\n",
              "      <td>0.000089</td>\n",
              "      <td>0.10400</td>\n",
              "      <td>TCACACTCCACCC</td>\n",
              "    </tr>\n",
              "    <tr>\n",
              "      <th>164</th>\n",
              "      <td>MA0753.1</td>\n",
              "      <td>ZNF740</td>\n",
              "      <td>sequence_variation|rs439401|19|C|51</td>\n",
              "      <td>50.0</td>\n",
              "      <td>59.0</td>\n",
              "      <td>+</td>\n",
              "      <td>11.83490</td>\n",
              "      <td>0.000034</td>\n",
              "      <td>0.01460</td>\n",
              "      <td>CCCCTCCCAC</td>\n",
              "    </tr>\n",
              "  </tbody>\n",
              "</table>\n",
              "</div>"
            ],
            "text/plain": [
              "     motif_id         motif_alt_id                         sequence_name  \\\n",
              "95   MA0154.3                 EBF1  sequence_wild_type|rs8103315|19|C|51   \n",
              "110  MA0154.3                 EBF1  sequence_wild_type|rs8103315|19|C|51   \n",
              "345  MA0149.1           EWSR1-FLI1   sequence_variation|rs439401|19|C|51   \n",
              "148  MA0092.1          Hand1::Tcf3   sequence_variation|rs405509|19|G|51   \n",
              "106  MA0155.1                INSM1  sequence_wild_type|rs8100239|19|T|51   \n",
              "233  MA0741.1                KLF16   sequence_variation|rs439401|19|C|51   \n",
              "105  MA0599.1                 KLF5   sequence_variation|rs439401|19|C|51   \n",
              "381  MA0599.1                 KLF5  sequence_variation|rs2075650|19|G|51   \n",
              "314  MA0863.1                 MTF1  sequence_wild_type|rs8103315|19|C|51   \n",
              "138  MA0057.1          MZF1(var.2)   sequence_variation|rs439401|19|C|51   \n",
              "417  MA0117.2                 Mafb  sequence_variation|rs1871047|19|G|51   \n",
              "55   MA0504.1                NR2C2   sequence_variation|rs439401|19|C|51   \n",
              "331  MA0842.1                  NRL   sequence_variation|rs157580|19|A|51   \n",
              "179  MA0163.1                PLAG1  sequence_variation|rs2075650|19|G|51   \n",
              "265  MA0790.1               POU4F1  sequence_variation|rs8100239|19|A|51   \n",
              "378  MA0791.1               POU4F3  sequence_variation|rs8100239|19|A|51   \n",
              "151  MA0073.1                RREB1   sequence_variation|rs439401|19|C|51   \n",
              "386  MA0860.1          Rarg(var.2)   sequence_variation|rs157580|19|A|51   \n",
              "406  MA0513.1  SMAD2::SMAD3::SMAD4   sequence_wild_type|rs157580|19|G|51   \n",
              "228  MA0746.1                  SP3   sequence_variation|rs439401|19|C|51   \n",
              "260  MA0747.1                  SP8   sequence_variation|rs439401|19|C|51   \n",
              "159  MA1153.1                Smad4   sequence_variation|rs405509|19|G|51   \n",
              "399  MA1121.1                TEAD2  sequence_variation|rs2075650|19|G|51   \n",
              "164  MA0753.1               ZNF740   sequence_variation|rs439401|19|C|51   \n",
              "\n",
              "     start  stop strand     score   p-value  q-value      matched_sequence  \n",
              "95    47.0  60.0      -  12.39340  0.000017  0.03550        GGACCCCAGGGACT  \n",
              "110   47.0  60.0      +  11.85250  0.000022  0.03550        AGTCCCTGGGGTCC  \n",
              "345   43.0  60.0      - -14.81580  0.000072  0.03000    GGTGGGAGGGGAAGAGAG  \n",
              "148   45.0  54.0      +  12.13480  0.000030  0.10800            TGTCTGGATT  \n",
              "106   51.0  62.0      +  12.76530  0.000021  0.07060          TTTCAGGGGTCT  \n",
              "233   49.0  59.0      +  11.20690  0.000047  0.04070           TCCCCTCCCAC  \n",
              "105   49.0  58.0      +  13.46940  0.000021  0.02980            TCCCCTCCCA  \n",
              "381   49.0  58.0      -  10.79590  0.000086  0.03370            ACTCCACCCC  \n",
              "314   38.0  51.0      +   6.50000  0.000064  0.21200        TCTGCAGACAGTCC  \n",
              "138   47.0  56.0      -  12.01010  0.000028  0.05990            GGAGGGGAAG  \n",
              "417   46.0  57.0      +  10.78650  0.000095  0.34000          AAAAAGCTGAGA  \n",
              "55    49.0  63.0      -  13.32860  0.000010  0.03190       GGGGGTGGGAGGGGA  \n",
              "331   45.0  55.0      -  10.76360  0.000070  0.08460           ACCTTGCTGAC  \n",
              "179   41.0  54.0      +   7.34694  0.000038  0.01610        GTGGGGTTGGGGTG  \n",
              "265   43.0  56.0      -  11.18900  0.000056  0.19600        CTGAATTTTTCATC  \n",
              "378   41.0  56.0      -  10.40940  0.000083  0.28600      CTGAATTTTTCATCCT  \n",
              "151   49.0  68.0      +   6.25688  0.000031  0.00856  TCCCCTCCCACCCCCTCAGT  \n",
              "386   42.0  58.0      +  -6.92727  0.000086  0.26200     GGTGTCAGCAAGGTTCC  \n",
              "406   41.0  53.0      -  10.21310  0.000090  0.27300         CTCGCTGACACCT  \n",
              "228   49.0  59.0      +  11.55280  0.000047  0.05530           TCCCCTCCCAC  \n",
              "260   49.0  60.0      +  11.25000  0.000054  0.02740          TCCCCTCCCACC  \n",
              "159   45.0  52.0      +  12.93440  0.000033  0.03970              TGTCTGGA  \n",
              "399   50.0  62.0      -  10.58180  0.000089  0.10400         TCACACTCCACCC  \n",
              "164   50.0  59.0      +  11.83490  0.000034  0.01460            CCCCTCCCAC  "
            ]
          },
          "metadata": {
            "tags": []
          }
        },
        {
          "output_type": "stream",
          "text": [
            "Tamanho DataFrame:  24\n"
          ],
          "name": "stdout"
        }
      ]
    },
    {
      "metadata": {
        "id": "4oPTUYJFPCMf",
        "colab_type": "code",
        "colab": {}
      },
      "cell_type": "code",
      "source": [
        "plt.style.available"
      ],
      "execution_count": 0,
      "outputs": []
    },
    {
      "metadata": {
        "id": "jURPNCjfJ6Ue",
        "colab_type": "code",
        "colab": {
          "base_uri": "https://localhost:8080/",
          "height": 610
        },
        "outputId": "f3bc4099-8fa6-4dda-febd-c7c79bdce4fb"
      },
      "cell_type": "code",
      "source": [
        "count_snps(f_dataframe)"
      ],
      "execution_count": 21,
      "outputs": [
        {
          "output_type": "display_data",
          "data": {
            "text/html": [
              "<div>\n",
              "<style scoped>\n",
              "    .dataframe tbody tr th:only-of-type {\n",
              "        vertical-align: middle;\n",
              "    }\n",
              "\n",
              "    .dataframe tbody tr th {\n",
              "        vertical-align: top;\n",
              "    }\n",
              "\n",
              "    .dataframe thead th {\n",
              "        text-align: right;\n",
              "    }\n",
              "</style>\n",
              "<table border=\"1\" class=\"dataframe\">\n",
              "  <thead>\n",
              "    <tr style=\"text-align: right;\">\n",
              "      <th></th>\n",
              "      <th>SNP NAME</th>\n",
              "      <th>COUNT</th>\n",
              "    </tr>\n",
              "  </thead>\n",
              "  <tbody>\n",
              "    <tr>\n",
              "      <th>0</th>\n",
              "      <td>rs157580</td>\n",
              "      <td>3</td>\n",
              "    </tr>\n",
              "    <tr>\n",
              "      <th>1</th>\n",
              "      <td>rs1871047</td>\n",
              "      <td>1</td>\n",
              "    </tr>\n",
              "    <tr>\n",
              "      <th>2</th>\n",
              "      <td>rs2075650</td>\n",
              "      <td>3</td>\n",
              "    </tr>\n",
              "    <tr>\n",
              "      <th>3</th>\n",
              "      <td>rs405509</td>\n",
              "      <td>2</td>\n",
              "    </tr>\n",
              "    <tr>\n",
              "      <th>4</th>\n",
              "      <td>rs439401</td>\n",
              "      <td>9</td>\n",
              "    </tr>\n",
              "    <tr>\n",
              "      <th>5</th>\n",
              "      <td>rs8100239</td>\n",
              "      <td>3</td>\n",
              "    </tr>\n",
              "    <tr>\n",
              "      <th>6</th>\n",
              "      <td>rs8103315</td>\n",
              "      <td>3</td>\n",
              "    </tr>\n",
              "  </tbody>\n",
              "</table>\n",
              "</div>"
            ],
            "text/plain": [
              "    SNP NAME  COUNT\n",
              "0   rs157580      3\n",
              "1  rs1871047      1\n",
              "2  rs2075650      3\n",
              "3   rs405509      2\n",
              "4   rs439401      9\n",
              "5  rs8100239      3\n",
              "6  rs8103315      3"
            ]
          },
          "metadata": {
            "tags": []
          }
        },
        {
          "output_type": "display_data",
          "data": {
            "image/png": "[encoded data removed]",
            "text/plain": [
              "<matplotlib.figure.Figure at 0x7f21e247b4a8>"
            ]
          },
          "metadata": {
            "tags": []
          }
        }
      ]
    },
    {
      "metadata": {
        "id": "hd4BRZ29ZwWF",
        "colab_type": "code",
        "colab": {}
      },
      "cell_type": "code",
      "source": [
        "from google.colab import files\n",
        "\n",
        "df_fimo_output.to_csv('df_fimo.csv')\n",
        "files.download('df_fimo.csv')"
      ],
      "execution_count": 0,
      "outputs": []
    }
  ]
}