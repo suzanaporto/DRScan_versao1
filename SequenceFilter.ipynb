{
  "nbformat": 4,
  "nbformat_minor": 0,
  "metadata": {
    "colab": {
      "name": "SequenceFilter.ipynb",
      "version": "0.3.2",
      "provenance": [],
      "collapsed_sections": [],
      "include_colab_link": true
    }
  },
  "cells": [
    {
      "cell_type": "markdown",
      "metadata": {
        "id": "view-in-github",
        "colab_type": "text"
      },
      "source": [
        "[View in Colaboratory](https://colab.research.google.com/github/suzanaporto/DRScan_versao1/blob/master/SequenceFilter.ipynb)"
      ]
    },
    {
      "metadata": {
        "id": "gk8uyKne3Ygn",
        "colab_type": "text"
      },
      "cell_type": "markdown",
      "source": [
        "#UPLOAD FILE FROM PC"
      ]
    },
    {
      "metadata": {
        "id": "ezAy_qrgH346",
        "colab_type": "text"
      },
      "cell_type": "markdown",
      "source": [
        "## Loader"
      ]
    },
    {
      "metadata": {
        "id": "HVi6MzXD0vE_",
        "colab_type": "code",
        "colab": {
          "resources": {
            "http://localhost:8080/nbextensions/google.colab/files.js": {
              "data": "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",
              "ok": true,
              "headers": [
                [
                  "content-type",
                  "application/javascript"
                ]
              ],
              "status": 200,
              "status_text": ""
            }
          },
          "base_uri": "https://localhost:8080/",
          "height": 72
        },
        "outputId": "9d8ddd12-1103-45e2-809b-24278fc19e45"
      },
      "cell_type": "code",
      "source": [
        "#Uploading the Dataset \n",
        "from google.colab import files\n",
        "uploaded = files.upload()"
      ],
      "execution_count": 7,
      "outputs": [
        {
          "output_type": "display_data",
          "data": {
            "text/plain": [
              "<IPython.core.display.HTML object>"
            ],
            "text/html": [
              "\n",
              "     <input type=\"file\" id=\"files-cb2614f6-0c9a-4adc-adb6-1e830f13a74f\" name=\"files[]\" multiple disabled />\n",
              "     <output id=\"result-cb2614f6-0c9a-4adc-adb6-1e830f13a74f\">\n",
              "      Upload widget is only available when the cell has been executed in the\n",
              "      current browser session. Please rerun this cell to enable.\n",
              "      </output>\n",
              "      <script src=\"/nbextensions/google.colab/files.js\"></script> "
            ]
          },
          "metadata": {
            "tags": []
          }
        },
        {
          "output_type": "stream",
          "text": [
            "Saving fimoAlzheimerResult.tsv to fimoAlzheimerResult.tsv\n"
          ],
          "name": "stdout"
        }
      ]
    },
    {
      "metadata": {
        "id": "jZL1qIpjFEey",
        "colab_type": "code",
        "colab": {
          "base_uri": "https://localhost:8080/",
          "height": 34
        },
        "outputId": "f3d7db44-605f-4621-9588-828204244f60"
      },
      "cell_type": "code",
      "source": [
        "!ls"
      ],
      "execution_count": 8,
      "outputs": [
        {
          "output_type": "stream",
          "text": [
            "fimoAlzheimerResult.tsv  sample_data\n"
          ],
          "name": "stdout"
        }
      ]
    },
    {
      "metadata": {
        "id": "lfPC1sNHFGPi",
        "colab_type": "code",
        "colab": {
          "base_uri": "https://localhost:8080/",
          "height": 648
        },
        "outputId": "e152c7d5-e080-4782-845b-0a680eb51aed"
      },
      "cell_type": "code",
      "source": [
        "import pandas as pd\n",
        "\n",
        "df_fimo_output = pd.DataFrame.from_csv('fimoAlzheimerResult.tsv', sep='\\t') \n",
        "df_fimo_output.tail(10)\n"
      ],
      "execution_count": 185,
      "outputs": [
        {
          "output_type": "stream",
          "text": [
            "/usr/local/lib/python2.7/dist-packages/ipykernel_launcher.py:3: FutureWarning: from_csv is deprecated. Please use read_csv(...) instead. Note that some of the default arguments are different, so please refer to the documentation for from_csv when changing your function calls\n",
            "  This is separate from the ipykernel package so we can avoid doing imports until\n"
          ],
          "name": "stderr"
        },
        {
          "output_type": "execute_result",
          "data": {
            "text/html": [
              "<div>\n",
              "<style scoped>\n",
              "    .dataframe tbody tr th:only-of-type {\n",
              "        vertical-align: middle;\n",
              "    }\n",
              "\n",
              "    .dataframe tbody tr th {\n",
              "        vertical-align: top;\n",
              "    }\n",
              "\n",
              "    .dataframe thead th {\n",
              "        text-align: right;\n",
              "    }\n",
              "</style>\n",
              "<table border=\"1\" class=\"dataframe\">\n",
              "  <thead>\n",
              "    <tr style=\"text-align: right;\">\n",
              "      <th></th>\n",
              "      <th>motif_alt_id</th>\n",
              "      <th>sequence_name</th>\n",
              "      <th>start</th>\n",
              "      <th>stop</th>\n",
              "      <th>strand</th>\n",
              "      <th>score</th>\n",
              "      <th>p-value</th>\n",
              "      <th>q-value</th>\n",
              "      <th>matched_sequence</th>\n",
              "    </tr>\n",
              "    <tr>\n",
              "      <th>motif_id</th>\n",
              "      <th></th>\n",
              "      <th></th>\n",
              "      <th></th>\n",
              "      <th></th>\n",
              "      <th></th>\n",
              "      <th></th>\n",
              "      <th></th>\n",
              "      <th></th>\n",
              "      <th></th>\n",
              "    </tr>\n",
              "  </thead>\n",
              "  <tbody>\n",
              "    <tr>\n",
              "      <th>MA0060.1</th>\n",
              "      <td>NFYA</td>\n",
              "      <td>chr19:41970393-41970893(-)_Rrp12</td>\n",
              "      <td>155.0</td>\n",
              "      <td>170.0</td>\n",
              "      <td>-</td>\n",
              "      <td>10.39470</td>\n",
              "      <td>0.000099</td>\n",
              "      <td>0.3870</td>\n",
              "      <td>CAAAACCAATCAACAT</td>\n",
              "    </tr>\n",
              "    <tr>\n",
              "      <th>UP00093_1</th>\n",
              "      <td>Klf7_primary</td>\n",
              "      <td>chr1:66221652-66222152(+)_Mtap2</td>\n",
              "      <td>39.0</td>\n",
              "      <td>54.0</td>\n",
              "      <td>-</td>\n",
              "      <td>9.71560</td>\n",
              "      <td>0.000099</td>\n",
              "      <td>0.0928</td>\n",
              "      <td>AGCAGCCCGCCCCGCG</td>\n",
              "    </tr>\n",
              "    <tr>\n",
              "      <th>UP00093_1</th>\n",
              "      <td>Klf7_primary</td>\n",
              "      <td>chrX:71136930-71137430(+)_Avpr2</td>\n",
              "      <td>116.0</td>\n",
              "      <td>131.0</td>\n",
              "      <td>-</td>\n",
              "      <td>9.71560</td>\n",
              "      <td>0.000099</td>\n",
              "      <td>0.0928</td>\n",
              "      <td>CACGCACCACCCCTAG</td>\n",
              "    </tr>\n",
              "    <tr>\n",
              "      <th>UP00093_1</th>\n",
              "      <td>Klf7_primary</td>\n",
              "      <td>chr2:26720249-26720749(-)_Abo</td>\n",
              "      <td>453.0</td>\n",
              "      <td>468.0</td>\n",
              "      <td>-</td>\n",
              "      <td>9.71560</td>\n",
              "      <td>0.000099</td>\n",
              "      <td>0.0928</td>\n",
              "      <td>CTGGCCCTGCCCCATC</td>\n",
              "    </tr>\n",
              "    <tr>\n",
              "      <th>UP00093_1</th>\n",
              "      <td>Klf7_primary</td>\n",
              "      <td>chr10:79408773-79409273(+)_Arid3a</td>\n",
              "      <td>239.0</td>\n",
              "      <td>254.0</td>\n",
              "      <td>-</td>\n",
              "      <td>9.70642</td>\n",
              "      <td>0.000100</td>\n",
              "      <td>0.0931</td>\n",
              "      <td>TCCCACACGCCCATTA</td>\n",
              "    </tr>\n",
              "    <tr>\n",
              "      <th>UP00002_2</th>\n",
              "      <td>Sp4_secondary</td>\n",
              "      <td>chr12:28027333-28027833(-)_Sox11</td>\n",
              "      <td>168.0</td>\n",
              "      <td>182.0</td>\n",
              "      <td>+</td>\n",
              "      <td>10.33330</td>\n",
              "      <td>0.000100</td>\n",
              "      <td>0.2480</td>\n",
              "      <td>GATAGGCGGAGTCGG</td>\n",
              "    </tr>\n",
              "    <tr>\n",
              "      <th>MA0060.1</th>\n",
              "      <td>NFYA</td>\n",
              "      <td>chr2:121282250-121282750(-)_Serinc4</td>\n",
              "      <td>205.0</td>\n",
              "      <td>220.0</td>\n",
              "      <td>-</td>\n",
              "      <td>10.38160</td>\n",
              "      <td>0.000100</td>\n",
              "      <td>0.3880</td>\n",
              "      <td>GTTGGCCTATCAGGTC</td>\n",
              "    </tr>\n",
              "    <tr>\n",
              "      <th># FIMO (Find Individual Motif Occurrences): Version 5.0.2 compiled on Sep 14 2018 at 17:37:02</th>\n",
              "      <td>NaN</td>\n",
              "      <td>NaN</td>\n",
              "      <td>NaN</td>\n",
              "      <td>NaN</td>\n",
              "      <td>NaN</td>\n",
              "      <td>NaN</td>\n",
              "      <td>NaN</td>\n",
              "      <td>NaN</td>\n",
              "      <td>NaN</td>\n",
              "    </tr>\n",
              "    <tr>\n",
              "      <th># The format of this file is described at http://meme-suite.org//doc/fimo-output-format.html.</th>\n",
              "      <td>NaN</td>\n",
              "      <td>NaN</td>\n",
              "      <td>NaN</td>\n",
              "      <td>NaN</td>\n",
              "      <td>NaN</td>\n",
              "      <td>NaN</td>\n",
              "      <td>NaN</td>\n",
              "      <td>NaN</td>\n",
              "      <td>NaN</td>\n",
              "    </tr>\n",
              "    <tr>\n",
              "      <th># fimo meme.meme mm9.fna</th>\n",
              "      <td>NaN</td>\n",
              "      <td>NaN</td>\n",
              "      <td>NaN</td>\n",
              "      <td>NaN</td>\n",
              "      <td>NaN</td>\n",
              "      <td>NaN</td>\n",
              "      <td>NaN</td>\n",
              "      <td>NaN</td>\n",
              "      <td>NaN</td>\n",
              "    </tr>\n",
              "  </tbody>\n",
              "</table>\n",
              "</div>"
            ],
            "text/plain": [
              "                                                     motif_alt_id  \\\n",
              "motif_id                                                            \n",
              "MA0060.1                                                     NFYA   \n",
              "UP00093_1                                            Klf7_primary   \n",
              "UP00093_1                                            Klf7_primary   \n",
              "UP00093_1                                            Klf7_primary   \n",
              "UP00093_1                                            Klf7_primary   \n",
              "UP00002_2                                           Sp4_secondary   \n",
              "MA0060.1                                                     NFYA   \n",
              "# FIMO (Find Individual Motif Occurrences): Ver...            NaN   \n",
              "# The format of this file is described at http:...            NaN   \n",
              "# fimo meme.meme mm9.fna                                      NaN   \n",
              "\n",
              "                                                                          sequence_name  \\\n",
              "motif_id                                                                                  \n",
              "MA0060.1                                               chr19:41970393-41970893(-)_Rrp12   \n",
              "UP00093_1                                               chr1:66221652-66222152(+)_Mtap2   \n",
              "UP00093_1                                               chrX:71136930-71137430(+)_Avpr2   \n",
              "UP00093_1                                                 chr2:26720249-26720749(-)_Abo   \n",
              "UP00093_1                                             chr10:79408773-79409273(+)_Arid3a   \n",
              "UP00002_2                                              chr12:28027333-28027833(-)_Sox11   \n",
              "MA0060.1                                            chr2:121282250-121282750(-)_Serinc4   \n",
              "# FIMO (Find Individual Motif Occurrences): Ver...                                  NaN   \n",
              "# The format of this file is described at http:...                                  NaN   \n",
              "# fimo meme.meme mm9.fna                                                            NaN   \n",
              "\n",
              "                                                    start   stop strand  \\\n",
              "motif_id                                                                  \n",
              "MA0060.1                                            155.0  170.0      -   \n",
              "UP00093_1                                            39.0   54.0      -   \n",
              "UP00093_1                                           116.0  131.0      -   \n",
              "UP00093_1                                           453.0  468.0      -   \n",
              "UP00093_1                                           239.0  254.0      -   \n",
              "UP00002_2                                           168.0  182.0      +   \n",
              "MA0060.1                                            205.0  220.0      -   \n",
              "# FIMO (Find Individual Motif Occurrences): Ver...    NaN    NaN    NaN   \n",
              "# The format of this file is described at http:...    NaN    NaN    NaN   \n",
              "# fimo meme.meme mm9.fna                              NaN    NaN    NaN   \n",
              "\n",
              "                                                       score   p-value  \\\n",
              "motif_id                                                                 \n",
              "MA0060.1                                            10.39470  0.000099   \n",
              "UP00093_1                                            9.71560  0.000099   \n",
              "UP00093_1                                            9.71560  0.000099   \n",
              "UP00093_1                                            9.71560  0.000099   \n",
              "UP00093_1                                            9.70642  0.000100   \n",
              "UP00002_2                                           10.33330  0.000100   \n",
              "MA0060.1                                            10.38160  0.000100   \n",
              "# FIMO (Find Individual Motif Occurrences): Ver...       NaN       NaN   \n",
              "# The format of this file is described at http:...       NaN       NaN   \n",
              "# fimo meme.meme mm9.fna                                 NaN       NaN   \n",
              "\n",
              "                                                    q-value  matched_sequence  \n",
              "motif_id                                                                       \n",
              "MA0060.1                                             0.3870  CAAAACCAATCAACAT  \n",
              "UP00093_1                                            0.0928  AGCAGCCCGCCCCGCG  \n",
              "UP00093_1                                            0.0928  CACGCACCACCCCTAG  \n",
              "UP00093_1                                            0.0928  CTGGCCCTGCCCCATC  \n",
              "UP00093_1                                            0.0931  TCCCACACGCCCATTA  \n",
              "UP00002_2                                            0.2480   GATAGGCGGAGTCGG  \n",
              "MA0060.1                                             0.3880  GTTGGCCTATCAGGTC  \n",
              "# FIMO (Find Individual Motif Occurrences): Ver...      NaN               NaN  \n",
              "# The format of this file is described at http:...      NaN               NaN  \n",
              "# fimo meme.meme mm9.fna                                NaN               NaN  "
            ]
          },
          "metadata": {
            "tags": []
          },
          "execution_count": 185
        }
      ]
    },
    {
      "metadata": {
        "id": "U6S21YwGH7bb",
        "colab_type": "text"
      },
      "cell_type": "markdown",
      "source": [
        "## Manipulating Data Frames"
      ]
    },
    {
      "metadata": {
        "id": "hbSmg_9IIeiB",
        "colab_type": "text"
      },
      "cell_type": "markdown",
      "source": [
        "###Single sequence"
      ]
    },
    {
      "metadata": {
        "id": "moaeGiHnIDhu",
        "colab_type": "code",
        "colab": {}
      },
      "cell_type": "code",
      "source": [
        "def single_sequence_input(snp_location, table_output):\n",
        "  #table into data frame\n",
        "  df_fimo_output = pd.DataFrame.from_csv(table_output, sep='\\t')\n",
        "  #stat values into array\n",
        "  array_start = df_fimo_output['start'].values\n",
        "  #stop values into array\n",
        "  array_stop = df_fimo_output['stop'].values\n",
        "  #sequence names into array\n",
        "  array_sequence = df_fimo_output['sequence_name'].values\n",
        "  #prints first 10 rows\n",
        "  table_10 = df_fimo_output.head(10)\n",
        "  print(table_10)\n",
        "  #loop prints values from start array and stop array\n",
        "  for i in range(array_start.size):\n",
        "    #verify if snp_location is between start and stop values\n",
        "    if snp_location>= array_start[i] and snp_location<= array_stop[i]:\n",
        "      pass\n",
        "     #print (\"Numero array start: \" +str(array_start[i]))\n",
        "     #print (\"Numero array stop: \" + str(array_stop[i]))\n",
        "     #print (\"ACHOU\")\n",
        "  #remove duplicates from array\n",
        "  tabela = df_fimo_output.drop_duplicates('motif_if',False,False)\n",
        "  #prints first 10 rows\n",
        "  df_fimo_output.head(10)\n",
        "  print (table_10)\n",
        "  "
      ],
      "execution_count": 0,
      "outputs": []
    },
    {
      "metadata": {
        "id": "Hh-FQaqTIkGi",
        "colab_type": "text"
      },
      "cell_type": "markdown",
      "source": [
        "### Multiple sequence"
      ]
    },
    {
      "metadata": {
        "id": "3Kp8BehqIr3J",
        "colab_type": "code",
        "colab": {}
      },
      "cell_type": "code",
      "source": [
        "def multiple_sequence_input():"
      ],
      "execution_count": 0,
      "outputs": []
    },
    {
      "metadata": {
        "id": "QDHKXNTSKYYR",
        "colab_type": "text"
      },
      "cell_type": "markdown",
      "source": [
        "###Teste"
      ]
    },
    {
      "metadata": {
        "id": "wJ6KLwFxQu9p",
        "colab_type": "code",
        "colab": {
          "base_uri": "https://localhost:8080/",
          "height": 999
        },
        "outputId": "c1ae5456-7fc4-486e-f792-7ec27151b942"
      },
      "cell_type": "code",
      "source": [
        "single_sequence_input(101,'fimo.tsv')"
      ],
      "execution_count": 183,
      "outputs": [
        {
          "output_type": "stream",
          "text": [
            "           motif_alt_id                              sequence_name  start  \\\n",
            "motif_id                                                                    \n",
            "MA0060.1           NFYA             chr2:60221038-60221538(-)_Ly75  126.0   \n",
            "MA0060.1           NFYA            chr3:54858714-54859214(-)_Ccna1  125.0   \n",
            "UP00093_1  Klf7_primary  chr2:172265827-172266327(+)_2410001C21Rik  192.0   \n",
            "UP00093_1  Klf7_primary        chr11:65981264-65981764(+)_AK165802  202.0   \n",
            "UP00020_1  Atf1_primary            chr3:65469899-65470399(+)_Lekr1  237.0   \n",
            "MA0060.1           NFYA          chrX:51925137-51925637(+)_Gm16405  140.0   \n",
            "MA0060.1           NFYA          chrX:52016150-52016650(+)_Gm16405  142.0   \n",
            "UP00093_1  Klf7_primary    chr1:93302356-93302856(-)_1700020N18Rik  121.0   \n",
            "MA0060.1           NFYA        chr15:94234531-94235031(-)_Adamts20  162.0   \n",
            "MA0060.1           NFYA          chr4:106583824-106584324(+)_Ssbp3  186.0   \n",
            "\n",
            "            stop strand    score       p-value  q-value  matched_sequence  \n",
            "motif_id                                                                   \n",
            "MA0060.1   141.0      -  18.7500  3.360000e-09  0.00195  CTCGGCCAATCAGAGC  \n",
            "MA0060.1   140.0      -  18.7105  4.770000e-09  0.00195  ATCAGCCAATCAGCGG  \n",
            "UP00093_1  207.0      +  19.4954  1.060000e-08  0.00496  GCGACCCCGCCCCTTT  \n",
            "UP00093_1  217.0      +  19.4220  1.310000e-08  0.00496  TTGACCCCGCCCCTCA  \n",
            "UP00020_1  252.0      +  19.7398  2.630000e-08  0.02220  GCTGTGACGTCACCGC  \n",
            "MA0060.1   155.0      +  18.0789  3.550000e-08  0.00584  TTCAGCCAATCAGCGC  \n",
            "MA0060.1   157.0      +  18.0789  3.550000e-08  0.00584  TTCAGCCAATCAGCGC  \n",
            "UP00093_1  136.0      +  18.9817  3.870000e-08  0.00898  TCGGCCCCGCCCCTCC  \n",
            "MA0060.1   177.0      -  18.0263  4.180000e-08  0.00584  GTCGACCAATCAGCGG  \n",
            "MA0060.1   201.0      -  17.9605  4.830000e-08  0.00584  GGCGGCCAATCGGCGC  \n"
          ],
          "name": "stdout"
        },
        {
          "output_type": "stream",
          "text": [
            "/usr/local/lib/python2.7/dist-packages/ipykernel_launcher.py:3: FutureWarning: from_csv is deprecated. Please use read_csv(...) instead. Note that some of the default arguments are different, so please refer to the documentation for from_csv when changing your function calls\n",
            "  This is separate from the ipykernel package so we can avoid doing imports until\n"
          ],
          "name": "stderr"
        },
        {
          "output_type": "error",
          "ename": "ValueError",
          "evalue": "ignored",
          "traceback": [
            "\u001b[0;31m\u001b[0m",
            "\u001b[0;31mValueError\u001b[0mTraceback (most recent call last)",
            "\u001b[0;32m<ipython-input-183-17eee166f46b>\u001b[0m in \u001b[0;36m<module>\u001b[0;34m()\u001b[0m\n\u001b[0;32m----> 1\u001b[0;31m \u001b[0msingle_sequence_input\u001b[0m\u001b[0;34m(\u001b[0m\u001b[0;36m101\u001b[0m\u001b[0;34m,\u001b[0m\u001b[0;34m'fimo.tsv'\u001b[0m\u001b[0;34m)\u001b[0m\u001b[0;34m\u001b[0m\u001b[0m\n\u001b[0m",
            "\u001b[0;32m<ipython-input-182-f456488f05c5>\u001b[0m in \u001b[0;36msingle_sequence_input\u001b[0;34m(snp_location, table_output)\u001b[0m\n\u001b[1;32m     20\u001b[0m      \u001b[0;31m#print (\"ACHOU\")\u001b[0m\u001b[0;34m\u001b[0m\u001b[0;34m\u001b[0m\u001b[0m\n\u001b[1;32m     21\u001b[0m   \u001b[0;31m#remove duplicates from array\u001b[0m\u001b[0;34m\u001b[0m\u001b[0;34m\u001b[0m\u001b[0m\n\u001b[0;32m---> 22\u001b[0;31m   \u001b[0mtabela\u001b[0m \u001b[0;34m=\u001b[0m \u001b[0mdf_fimo_output\u001b[0m\u001b[0;34m.\u001b[0m\u001b[0mdrop_duplicates\u001b[0m\u001b[0;34m(\u001b[0m\u001b[0;34m'motif_if'\u001b[0m\u001b[0;34m,\u001b[0m\u001b[0mFalse\u001b[0m\u001b[0;34m,\u001b[0m\u001b[0mFalse\u001b[0m\u001b[0;34m)\u001b[0m\u001b[0;34m\u001b[0m\u001b[0m\n\u001b[0m\u001b[1;32m     23\u001b[0m   \u001b[0;31m#prints first 10 rows\u001b[0m\u001b[0;34m\u001b[0m\u001b[0;34m\u001b[0m\u001b[0m\n\u001b[1;32m     24\u001b[0m   \u001b[0mdf_fimo_output\u001b[0m\u001b[0;34m.\u001b[0m\u001b[0mhead\u001b[0m\u001b[0;34m(\u001b[0m\u001b[0;36m10\u001b[0m\u001b[0;34m)\u001b[0m\u001b[0;34m\u001b[0m\u001b[0m\n",
            "\u001b[0;32m/usr/local/lib/python2.7/dist-packages/pandas/core/frame.pyc\u001b[0m in \u001b[0;36mdrop_duplicates\u001b[0;34m(self, subset, keep, inplace)\u001b[0m\n\u001b[1;32m   3533\u001b[0m         \"\"\"\n\u001b[1;32m   3534\u001b[0m         \u001b[0minplace\u001b[0m \u001b[0;34m=\u001b[0m \u001b[0mvalidate_bool_kwarg\u001b[0m\u001b[0;34m(\u001b[0m\u001b[0minplace\u001b[0m\u001b[0;34m,\u001b[0m \u001b[0;34m'inplace'\u001b[0m\u001b[0;34m)\u001b[0m\u001b[0;34m\u001b[0m\u001b[0m\n\u001b[0;32m-> 3535\u001b[0;31m         \u001b[0mduplicated\u001b[0m \u001b[0;34m=\u001b[0m \u001b[0mself\u001b[0m\u001b[0;34m.\u001b[0m\u001b[0mduplicated\u001b[0m\u001b[0;34m(\u001b[0m\u001b[0msubset\u001b[0m\u001b[0;34m,\u001b[0m \u001b[0mkeep\u001b[0m\u001b[0;34m=\u001b[0m\u001b[0mkeep\u001b[0m\u001b[0;34m)\u001b[0m\u001b[0;34m\u001b[0m\u001b[0m\n\u001b[0m\u001b[1;32m   3536\u001b[0m \u001b[0;34m\u001b[0m\u001b[0m\n\u001b[1;32m   3537\u001b[0m         \u001b[0;32mif\u001b[0m \u001b[0minplace\u001b[0m\u001b[0;34m:\u001b[0m\u001b[0;34m\u001b[0m\u001b[0m\n",
            "\u001b[0;32m/usr/local/lib/python2.7/dist-packages/pandas/core/frame.pyc\u001b[0m in \u001b[0;36mduplicated\u001b[0;34m(self, subset, keep)\u001b[0m\n\u001b[1;32m   3580\u001b[0m         vals = (col.values for name, col in self.iteritems()\n\u001b[1;32m   3581\u001b[0m                 if name in subset)\n\u001b[0;32m-> 3582\u001b[0;31m         \u001b[0mlabels\u001b[0m\u001b[0;34m,\u001b[0m \u001b[0mshape\u001b[0m \u001b[0;34m=\u001b[0m \u001b[0mmap\u001b[0m\u001b[0;34m(\u001b[0m\u001b[0mlist\u001b[0m\u001b[0;34m,\u001b[0m \u001b[0mzip\u001b[0m\u001b[0;34m(\u001b[0m\u001b[0;34m*\u001b[0m\u001b[0mmap\u001b[0m\u001b[0;34m(\u001b[0m\u001b[0mf\u001b[0m\u001b[0;34m,\u001b[0m \u001b[0mvals\u001b[0m\u001b[0;34m)\u001b[0m\u001b[0;34m)\u001b[0m\u001b[0;34m)\u001b[0m\u001b[0;34m\u001b[0m\u001b[0m\n\u001b[0m\u001b[1;32m   3583\u001b[0m \u001b[0;34m\u001b[0m\u001b[0m\n\u001b[1;32m   3584\u001b[0m         \u001b[0mids\u001b[0m \u001b[0;34m=\u001b[0m \u001b[0mget_group_index\u001b[0m\u001b[0;34m(\u001b[0m\u001b[0mlabels\u001b[0m\u001b[0;34m,\u001b[0m \u001b[0mshape\u001b[0m\u001b[0;34m,\u001b[0m \u001b[0msort\u001b[0m\u001b[0;34m=\u001b[0m\u001b[0mFalse\u001b[0m\u001b[0;34m,\u001b[0m \u001b[0mxnull\u001b[0m\u001b[0;34m=\u001b[0m\u001b[0mFalse\u001b[0m\u001b[0;34m)\u001b[0m\u001b[0;34m\u001b[0m\u001b[0m\n",
            "\u001b[0;31mValueError\u001b[0m: need more than 0 values to unpack"
          ]
        }
      ]
    }
  ]
}